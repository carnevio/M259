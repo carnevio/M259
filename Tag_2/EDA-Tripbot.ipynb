{
 "cells": [
  {
   "cell_type": "code",
   "execution_count": 1,
   "id": "fe3c9dca",
   "metadata": {},
   "outputs": [],
   "source": [
    "import pandas as pd\n",
    "import matplotlib.pyplot as plt\n",
    "import re"
   ]
  },
  {
   "cell_type": "code",
   "execution_count": 2,
   "id": "7f86f965",
   "metadata": {},
   "outputs": [],
   "source": [
    "df = pd.read_csv(\"wetter_tripbot_zurich_juni.csv\", encoding='latin-1')"
   ]
  },
  {
   "cell_type": "code",
   "execution_count": 3,
   "id": "ef5da94d",
   "metadata": {},
   "outputs": [
    {
     "data": {
      "text/html": [
       "<div>\n",
       "<style scoped>\n",
       "    .dataframe tbody tr th:only-of-type {\n",
       "        vertical-align: middle;\n",
       "    }\n",
       "\n",
       "    .dataframe tbody tr th {\n",
       "        vertical-align: top;\n",
       "    }\n",
       "\n",
       "    .dataframe thead th {\n",
       "        text-align: right;\n",
       "    }\n",
       "</style>\n",
       "<table border=\"1\" class=\"dataframe\">\n",
       "  <thead>\n",
       "    <tr style=\"text-align: right;\">\n",
       "      <th></th>\n",
       "      <th>Stadt</th>\n",
       "      <th>Datum</th>\n",
       "      <th>Temperatur (°C)</th>\n",
       "      <th>Bewölkung (%)</th>\n",
       "      <th>Regenmenge (mm)</th>\n",
       "      <th>Sonnenscheindauer (h)</th>\n",
       "    </tr>\n",
       "  </thead>\n",
       "  <tbody>\n",
       "    <tr>\n",
       "      <th>0</th>\n",
       "      <td>Zürich</td>\n",
       "      <td>01.06.2025</td>\n",
       "      <td>19.2</td>\n",
       "      <td>60</td>\n",
       "      <td>1.2</td>\n",
       "      <td>6.5</td>\n",
       "    </tr>\n",
       "    <tr>\n",
       "      <th>1</th>\n",
       "      <td>Zürich</td>\n",
       "      <td>02.06.2025</td>\n",
       "      <td>21</td>\n",
       "      <td>45</td>\n",
       "      <td>NaN</td>\n",
       "      <td>9.0</td>\n",
       "    </tr>\n",
       "    <tr>\n",
       "      <th>2</th>\n",
       "      <td>Zürich</td>\n",
       "      <td>02.06.2025</td>\n",
       "      <td>21</td>\n",
       "      <td>45</td>\n",
       "      <td>0.0</td>\n",
       "      <td>9.0</td>\n",
       "    </tr>\n",
       "    <tr>\n",
       "      <th>3</th>\n",
       "      <td>Zürich</td>\n",
       "      <td>03.06.2025</td>\n",
       "      <td>22.3</td>\n",
       "      <td>30</td>\n",
       "      <td>0.0</td>\n",
       "      <td>10.2</td>\n",
       "    </tr>\n",
       "    <tr>\n",
       "      <th>4</th>\n",
       "      <td>Zürich</td>\n",
       "      <td>04.06.2025</td>\n",
       "      <td>24.1</td>\n",
       "      <td>25</td>\n",
       "      <td>0.0</td>\n",
       "      <td>11.0</td>\n",
       "    </tr>\n",
       "    <tr>\n",
       "      <th>5</th>\n",
       "      <td>Zürich</td>\n",
       "      <td>05.06.2025</td>\n",
       "      <td>25</td>\n",
       "      <td>20</td>\n",
       "      <td>0.0</td>\n",
       "      <td>11.5</td>\n",
       "    </tr>\n",
       "    <tr>\n",
       "      <th>6</th>\n",
       "      <td>Zürich</td>\n",
       "      <td>06.06.2025</td>\n",
       "      <td>23.8</td>\n",
       "      <td>35</td>\n",
       "      <td>0.5</td>\n",
       "      <td>8.2</td>\n",
       "    </tr>\n",
       "    <tr>\n",
       "      <th>7</th>\n",
       "      <td>Zürich</td>\n",
       "      <td>07.06.2025</td>\n",
       "      <td>22</td>\n",
       "      <td>70</td>\n",
       "      <td>4.8</td>\n",
       "      <td>4.0</td>\n",
       "    </tr>\n",
       "    <tr>\n",
       "      <th>8</th>\n",
       "      <td>Zürich</td>\n",
       "      <td>06.08.2025</td>\n",
       "      <td>20.5</td>\n",
       "      <td>85</td>\n",
       "      <td>6.2</td>\n",
       "      <td>2.5</td>\n",
       "    </tr>\n",
       "    <tr>\n",
       "      <th>9</th>\n",
       "      <td>Zürich</td>\n",
       "      <td>09.06.2025</td>\n",
       "      <td>18.9</td>\n",
       "      <td>90</td>\n",
       "      <td>8.0</td>\n",
       "      <td>1.0</td>\n",
       "    </tr>\n",
       "    <tr>\n",
       "      <th>10</th>\n",
       "      <td>Zürich</td>\n",
       "      <td>10.06.2025</td>\n",
       "      <td>Regen</td>\n",
       "      <td>65</td>\n",
       "      <td>2.1</td>\n",
       "      <td>5.0</td>\n",
       "    </tr>\n",
       "    <tr>\n",
       "      <th>11</th>\n",
       "      <td>Zürich</td>\n",
       "      <td>11.06.2025</td>\n",
       "      <td>21.2</td>\n",
       "      <td>40</td>\n",
       "      <td>0.0</td>\n",
       "      <td>9.5</td>\n",
       "    </tr>\n",
       "    <tr>\n",
       "      <th>12</th>\n",
       "      <td>Zürich</td>\n",
       "      <td>12.06.2025</td>\n",
       "      <td>23</td>\n",
       "      <td>30</td>\n",
       "      <td>0.0</td>\n",
       "      <td>10.8</td>\n",
       "    </tr>\n",
       "    <tr>\n",
       "      <th>13</th>\n",
       "      <td>Zürich</td>\n",
       "      <td>13.06.2025</td>\n",
       "      <td>24.4</td>\n",
       "      <td>20</td>\n",
       "      <td>0.0</td>\n",
       "      <td>11.2</td>\n",
       "    </tr>\n",
       "    <tr>\n",
       "      <th>14</th>\n",
       "      <td>Zürich</td>\n",
       "      <td>14.06.2025</td>\n",
       "      <td>26.1</td>\n",
       "      <td>15</td>\n",
       "      <td>0.0</td>\n",
       "      <td>12.0</td>\n",
       "    </tr>\n",
       "    <tr>\n",
       "      <th>15</th>\n",
       "      <td>Zürich</td>\n",
       "      <td>15.06.2025</td>\n",
       "      <td>27.3</td>\n",
       "      <td>10</td>\n",
       "      <td>0.0</td>\n",
       "      <td>12.5</td>\n",
       "    </tr>\n",
       "    <tr>\n",
       "      <th>16</th>\n",
       "      <td>Zürich</td>\n",
       "      <td>16.06.2025</td>\n",
       "      <td>28</td>\n",
       "      <td>20</td>\n",
       "      <td>0.0</td>\n",
       "      <td>11.8</td>\n",
       "    </tr>\n",
       "    <tr>\n",
       "      <th>17</th>\n",
       "      <td>Zürich</td>\n",
       "      <td>17.06.2025</td>\n",
       "      <td>29.2</td>\n",
       "      <td>25</td>\n",
       "      <td>0.0</td>\n",
       "      <td>11.0</td>\n",
       "    </tr>\n",
       "    <tr>\n",
       "      <th>18</th>\n",
       "      <td>Zürich</td>\n",
       "      <td>18.06.2025</td>\n",
       "      <td>30</td>\n",
       "      <td>30</td>\n",
       "      <td>0.0</td>\n",
       "      <td>10.5</td>\n",
       "    </tr>\n",
       "    <tr>\n",
       "      <th>19</th>\n",
       "      <td>Zürich</td>\n",
       "      <td>19.06.2025</td>\n",
       "      <td>58</td>\n",
       "      <td>40</td>\n",
       "      <td>0.0</td>\n",
       "      <td>-9.8</td>\n",
       "    </tr>\n",
       "    <tr>\n",
       "      <th>20</th>\n",
       "      <td>Zürich</td>\n",
       "      <td>20.06.2025</td>\n",
       "      <td>26.7</td>\n",
       "      <td>50</td>\n",
       "      <td>0.0</td>\n",
       "      <td>8.5</td>\n",
       "    </tr>\n",
       "    <tr>\n",
       "      <th>21</th>\n",
       "      <td>Zürich</td>\n",
       "      <td>21.06.2025</td>\n",
       "      <td>NaN</td>\n",
       "      <td>60</td>\n",
       "      <td>1.0</td>\n",
       "      <td>6.0</td>\n",
       "    </tr>\n",
       "    <tr>\n",
       "      <th>22</th>\n",
       "      <td>Zürich</td>\n",
       "      <td>22.06.2025</td>\n",
       "      <td>NaN</td>\n",
       "      <td>70</td>\n",
       "      <td>3.2</td>\n",
       "      <td>4.2</td>\n",
       "    </tr>\n",
       "    <tr>\n",
       "      <th>23</th>\n",
       "      <td>Zürich</td>\n",
       "      <td>23.06.2025</td>\n",
       "      <td>NaN</td>\n",
       "      <td>80</td>\n",
       "      <td>5.5</td>\n",
       "      <td>3.0</td>\n",
       "    </tr>\n",
       "    <tr>\n",
       "      <th>24</th>\n",
       "      <td>Zürich</td>\n",
       "      <td>24.06.2025</td>\n",
       "      <td>NaN</td>\n",
       "      <td>90</td>\n",
       "      <td>7.0</td>\n",
       "      <td>2.0</td>\n",
       "    </tr>\n",
       "    <tr>\n",
       "      <th>25</th>\n",
       "      <td>Zürich</td>\n",
       "      <td>25.06.2025</td>\n",
       "      <td>19.3</td>\n",
       "      <td>85</td>\n",
       "      <td>4.0</td>\n",
       "      <td>3.5</td>\n",
       "    </tr>\n",
       "    <tr>\n",
       "      <th>26</th>\n",
       "      <td>Zürich</td>\n",
       "      <td>26.06.2025</td>\n",
       "      <td>20.8</td>\n",
       "      <td>70</td>\n",
       "      <td>1.5</td>\n",
       "      <td>6.0</td>\n",
       "    </tr>\n",
       "    <tr>\n",
       "      <th>27</th>\n",
       "      <td>Zürich</td>\n",
       "      <td>27.06.2025</td>\n",
       "      <td>22.5</td>\n",
       "      <td>55</td>\n",
       "      <td>0.0</td>\n",
       "      <td>8.8</td>\n",
       "    </tr>\n",
       "    <tr>\n",
       "      <th>28</th>\n",
       "      <td>Zürich</td>\n",
       "      <td>28.06.2025</td>\n",
       "      <td>24</td>\n",
       "      <td>40</td>\n",
       "      <td>0.0</td>\n",
       "      <td>10.0</td>\n",
       "    </tr>\n",
       "    <tr>\n",
       "      <th>29</th>\n",
       "      <td>Zürich</td>\n",
       "      <td>29.06.2025</td>\n",
       "      <td>25.2</td>\n",
       "      <td>30</td>\n",
       "      <td>0.0</td>\n",
       "      <td>11.2</td>\n",
       "    </tr>\n",
       "    <tr>\n",
       "      <th>30</th>\n",
       "      <td>Zürich</td>\n",
       "      <td>30.06.2025</td>\n",
       "      <td>26</td>\n",
       "      <td>25</td>\n",
       "      <td>0.0</td>\n",
       "      <td>11.0</td>\n",
       "    </tr>\n",
       "  </tbody>\n",
       "</table>\n",
       "</div>"
      ],
      "text/plain": [
       "     Stadt       Datum Temperatur (°C)  Bewölkung (%)  Regenmenge (mm)  \\\n",
       "0   Zürich  01.06.2025            19.2             60              1.2   \n",
       "1   Zürich  02.06.2025              21             45              NaN   \n",
       "2   Zürich  02.06.2025              21             45              0.0   \n",
       "3   Zürich  03.06.2025            22.3             30              0.0   \n",
       "4   Zürich  04.06.2025            24.1             25              0.0   \n",
       "5   Zürich  05.06.2025              25             20              0.0   \n",
       "6   Zürich  06.06.2025            23.8             35              0.5   \n",
       "7   Zürich  07.06.2025              22             70              4.8   \n",
       "8   Zürich  06.08.2025            20.5             85              6.2   \n",
       "9   Zürich  09.06.2025            18.9             90              8.0   \n",
       "10  Zürich  10.06.2025           Regen             65              2.1   \n",
       "11  Zürich  11.06.2025            21.2             40              0.0   \n",
       "12  Zürich  12.06.2025              23             30              0.0   \n",
       "13  Zürich  13.06.2025            24.4             20              0.0   \n",
       "14  Zürich  14.06.2025            26.1             15              0.0   \n",
       "15  Zürich  15.06.2025            27.3             10              0.0   \n",
       "16  Zürich  16.06.2025              28             20              0.0   \n",
       "17  Zürich  17.06.2025            29.2             25              0.0   \n",
       "18  Zürich  18.06.2025              30             30              0.0   \n",
       "19  Zürich  19.06.2025              58             40              0.0   \n",
       "20  Zürich  20.06.2025            26.7             50              0.0   \n",
       "21  Zürich  21.06.2025             NaN             60              1.0   \n",
       "22  Zürich  22.06.2025             NaN             70              3.2   \n",
       "23  Zürich  23.06.2025             NaN             80              5.5   \n",
       "24  Zürich  24.06.2025             NaN             90              7.0   \n",
       "25  Zürich  25.06.2025            19.3             85              4.0   \n",
       "26  Zürich  26.06.2025            20.8             70              1.5   \n",
       "27  Zürich  27.06.2025            22.5             55              0.0   \n",
       "28  Zürich  28.06.2025              24             40              0.0   \n",
       "29  Zürich  29.06.2025            25.2             30              0.0   \n",
       "30  Zürich  30.06.2025              26             25              0.0   \n",
       "\n",
       "    Sonnenscheindauer (h)  \n",
       "0                     6.5  \n",
       "1                     9.0  \n",
       "2                     9.0  \n",
       "3                    10.2  \n",
       "4                    11.0  \n",
       "5                    11.5  \n",
       "6                     8.2  \n",
       "7                     4.0  \n",
       "8                     2.5  \n",
       "9                     1.0  \n",
       "10                    5.0  \n",
       "11                    9.5  \n",
       "12                   10.8  \n",
       "13                   11.2  \n",
       "14                   12.0  \n",
       "15                   12.5  \n",
       "16                   11.8  \n",
       "17                   11.0  \n",
       "18                   10.5  \n",
       "19                   -9.8  \n",
       "20                    8.5  \n",
       "21                    6.0  \n",
       "22                    4.2  \n",
       "23                    3.0  \n",
       "24                    2.0  \n",
       "25                    3.5  \n",
       "26                    6.0  \n",
       "27                    8.8  \n",
       "28                   10.0  \n",
       "29                   11.2  \n",
       "30                   11.0  "
      ]
     },
     "execution_count": 3,
     "metadata": {},
     "output_type": "execute_result"
    }
   ],
   "source": [
    "df"
   ]
  },
  {
   "cell_type": "code",
   "execution_count": 6,
   "id": "7debbcf0",
   "metadata": {},
   "outputs": [
    {
     "data": {
      "text/plain": [
       "(31, 6)"
      ]
     },
     "execution_count": 6,
     "metadata": {},
     "output_type": "execute_result"
    }
   ],
   "source": [
    "df.shape"
   ]
  },
  {
   "cell_type": "code",
   "execution_count": 7,
   "id": "1d427415",
   "metadata": {},
   "outputs": [
    {
     "data": {
      "text/plain": [
       "Stadt                     object\n",
       "Datum                     object\n",
       "Temperatur (°C)           object\n",
       "Bewölkung (%)              int64\n",
       "Regenmenge (mm)          float64\n",
       "Sonnenscheindauer (h)    float64\n",
       "dtype: object"
      ]
     },
     "execution_count": 7,
     "metadata": {},
     "output_type": "execute_result"
    }
   ],
   "source": [
    "df.dtypes"
   ]
  },
  {
   "cell_type": "code",
   "execution_count": 8,
   "id": "a5d9a766",
   "metadata": {},
   "outputs": [
    {
     "data": {
      "text/plain": [
       "0      19.2\n",
       "1        21\n",
       "2        21\n",
       "3      22.3\n",
       "4      24.1\n",
       "5        25\n",
       "6      23.8\n",
       "7        22\n",
       "8      20.5\n",
       "9      18.9\n",
       "10    Regen\n",
       "11     21.2\n",
       "12       23\n",
       "13     24.4\n",
       "14     26.1\n",
       "15     27.3\n",
       "16       28\n",
       "17     29.2\n",
       "18       30\n",
       "19       58\n",
       "20     26.7\n",
       "21      NaN\n",
       "22      NaN\n",
       "23      NaN\n",
       "24      NaN\n",
       "25     19.3\n",
       "26     20.8\n",
       "27     22.5\n",
       "28       24\n",
       "29     25.2\n",
       "30       26\n",
       "Name: Temperatur (°C), dtype: object"
      ]
     },
     "execution_count": 8,
     "metadata": {},
     "output_type": "execute_result"
    }
   ],
   "source": [
    "df['Temperatur (°C)']"
   ]
  },
  {
   "cell_type": "code",
   "execution_count": 9,
   "id": "c19dddb2",
   "metadata": {},
   "outputs": [
    {
     "data": {
      "text/plain": [
       "Stadt                        Zürich\n",
       "Datum                    10.06.2025\n",
       "Temperatur (°C)           24.980769\n",
       "Bewölkung (%)                    65\n",
       "Regenmenge (mm)                 2.1\n",
       "Sonnenscheindauer (h)           5.0\n",
       "Name: 10, dtype: object"
      ]
     },
     "execution_count": 9,
     "metadata": {},
     "output_type": "execute_result"
    }
   ],
   "source": [
    "mean_temp = pd.to_numeric(df['Temperatur (°C)'], errors='coerce').mean()\n",
    "df.loc[df['Temperatur (°C)'] == \"Regen\", 'Temperatur (°C)'] = mean_temp\n",
    "df.loc[10]"
   ]
  },
  {
   "cell_type": "code",
   "execution_count": 10,
   "id": "4144f842",
   "metadata": {},
   "outputs": [
    {
     "data": {
      "text/plain": [
       "Stadt                     object\n",
       "Datum                     object\n",
       "Temperatur (°C)          float64\n",
       "Bewölkung (%)              int64\n",
       "Regenmenge (mm)          float64\n",
       "Sonnenscheindauer (h)    float64\n",
       "dtype: object"
      ]
     },
     "execution_count": 10,
     "metadata": {},
     "output_type": "execute_result"
    }
   ],
   "source": [
    "df['Temperatur (°C)'] = pd.to_numeric(df['Temperatur (°C)'])\n",
    "df.dtypes"
   ]
  },
  {
   "cell_type": "code",
   "execution_count": 11,
   "id": "17cc6ae1",
   "metadata": {},
   "outputs": [
    {
     "data": {
      "text/plain": [
       "Stadt                    0\n",
       "Datum                    0\n",
       "Temperatur (°C)          4\n",
       "Bewölkung (%)            0\n",
       "Regenmenge (mm)          1\n",
       "Sonnenscheindauer (h)    0\n",
       "dtype: int64"
      ]
     },
     "execution_count": 11,
     "metadata": {},
     "output_type": "execute_result"
    }
   ],
   "source": [
    "df.isnull().sum()"
   ]
  },
  {
   "cell_type": "code",
   "execution_count": 12,
   "id": "e62fce56",
   "metadata": {},
   "outputs": [
    {
     "name": "stdout",
     "output_type": "stream",
     "text": [
      "<class 'pandas.core.frame.DataFrame'>\n",
      "RangeIndex: 31 entries, 0 to 30\n",
      "Data columns (total 6 columns):\n",
      " #   Column                 Non-Null Count  Dtype  \n",
      "---  ------                 --------------  -----  \n",
      " 0   Stadt                  31 non-null     object \n",
      " 1   Datum                  31 non-null     object \n",
      " 2   Temperatur (°C)        27 non-null     float64\n",
      " 3   Bewölkung (%)          31 non-null     int64  \n",
      " 4   Regenmenge (mm)        30 non-null     float64\n",
      " 5   Sonnenscheindauer (h)  31 non-null     float64\n",
      "dtypes: float64(3), int64(1), object(2)\n",
      "memory usage: 1.6+ KB\n"
     ]
    }
   ],
   "source": [
    "df.info()"
   ]
  },
  {
   "cell_type": "code",
   "execution_count": 13,
   "id": "895db60a",
   "metadata": {},
   "outputs": [],
   "source": [
    "df = df.dropna()"
   ]
  },
  {
   "cell_type": "code",
   "execution_count": 14,
   "id": "f61febdb",
   "metadata": {},
   "outputs": [
    {
     "data": {
      "text/plain": [
       "Stadt                    0\n",
       "Datum                    0\n",
       "Temperatur (°C)          0\n",
       "Bewölkung (%)            0\n",
       "Regenmenge (mm)          0\n",
       "Sonnenscheindauer (h)    0\n",
       "dtype: int64"
      ]
     },
     "execution_count": 14,
     "metadata": {},
     "output_type": "execute_result"
    }
   ],
   "source": [
    "df.isnull().sum()"
   ]
  },
  {
   "cell_type": "code",
   "execution_count": 15,
   "id": "5e1d1a9c",
   "metadata": {},
   "outputs": [
    {
     "data": {
      "text/plain": [
       "0     False\n",
       "2     False\n",
       "3     False\n",
       "4     False\n",
       "5     False\n",
       "6     False\n",
       "7     False\n",
       "8     False\n",
       "9     False\n",
       "10    False\n",
       "11    False\n",
       "12    False\n",
       "13    False\n",
       "14    False\n",
       "15    False\n",
       "16    False\n",
       "17    False\n",
       "18    False\n",
       "19    False\n",
       "20    False\n",
       "25    False\n",
       "26    False\n",
       "27    False\n",
       "28    False\n",
       "29    False\n",
       "30    False\n",
       "Name: Datum, dtype: bool"
      ]
     },
     "execution_count": 15,
     "metadata": {},
     "output_type": "execute_result"
    }
   ],
   "source": [
    "df['Datum'].duplicated()"
   ]
  },
  {
   "cell_type": "code",
   "execution_count": 16,
   "id": "b71d8f54",
   "metadata": {},
   "outputs": [],
   "source": [
    "df = df.drop_duplicates()"
   ]
  },
  {
   "cell_type": "code",
   "execution_count": 17,
   "id": "cd5a7d41",
   "metadata": {},
   "outputs": [
    {
     "data": {
      "text/html": [
       "<div>\n",
       "<style scoped>\n",
       "    .dataframe tbody tr th:only-of-type {\n",
       "        vertical-align: middle;\n",
       "    }\n",
       "\n",
       "    .dataframe tbody tr th {\n",
       "        vertical-align: top;\n",
       "    }\n",
       "\n",
       "    .dataframe thead th {\n",
       "        text-align: right;\n",
       "    }\n",
       "</style>\n",
       "<table border=\"1\" class=\"dataframe\">\n",
       "  <thead>\n",
       "    <tr style=\"text-align: right;\">\n",
       "      <th></th>\n",
       "      <th>Temperatur (°C)</th>\n",
       "      <th>Bewölkung (%)</th>\n",
       "      <th>Regenmenge (mm)</th>\n",
       "      <th>Sonnenscheindauer (h)</th>\n",
       "    </tr>\n",
       "  </thead>\n",
       "  <tbody>\n",
       "    <tr>\n",
       "      <th>count</th>\n",
       "      <td>26.000000</td>\n",
       "      <td>26.000000</td>\n",
       "      <td>26.000000</td>\n",
       "      <td>26.000000</td>\n",
       "    </tr>\n",
       "    <tr>\n",
       "      <th>mean</th>\n",
       "      <td>25.133876</td>\n",
       "      <td>42.692308</td>\n",
       "      <td>1.088462</td>\n",
       "      <td>7.976923</td>\n",
       "    </tr>\n",
       "    <tr>\n",
       "      <th>std</th>\n",
       "      <td>7.355065</td>\n",
       "      <td>23.118424</td>\n",
       "      <td>2.181986</td>\n",
       "      <td>4.837794</td>\n",
       "    </tr>\n",
       "    <tr>\n",
       "      <th>min</th>\n",
       "      <td>18.900000</td>\n",
       "      <td>10.000000</td>\n",
       "      <td>0.000000</td>\n",
       "      <td>-9.800000</td>\n",
       "    </tr>\n",
       "    <tr>\n",
       "      <th>25%</th>\n",
       "      <td>21.400000</td>\n",
       "      <td>25.000000</td>\n",
       "      <td>0.000000</td>\n",
       "      <td>6.125000</td>\n",
       "    </tr>\n",
       "    <tr>\n",
       "      <th>50%</th>\n",
       "      <td>24.050000</td>\n",
       "      <td>37.500000</td>\n",
       "      <td>0.000000</td>\n",
       "      <td>9.750000</td>\n",
       "    </tr>\n",
       "    <tr>\n",
       "      <th>75%</th>\n",
       "      <td>26.075000</td>\n",
       "      <td>58.750000</td>\n",
       "      <td>1.025000</td>\n",
       "      <td>11.000000</td>\n",
       "    </tr>\n",
       "    <tr>\n",
       "      <th>max</th>\n",
       "      <td>58.000000</td>\n",
       "      <td>90.000000</td>\n",
       "      <td>8.000000</td>\n",
       "      <td>12.500000</td>\n",
       "    </tr>\n",
       "  </tbody>\n",
       "</table>\n",
       "</div>"
      ],
      "text/plain": [
       "       Temperatur (°C)  Bewölkung (%)  Regenmenge (mm)  Sonnenscheindauer (h)\n",
       "count        26.000000      26.000000        26.000000              26.000000\n",
       "mean         25.133876      42.692308         1.088462               7.976923\n",
       "std           7.355065      23.118424         2.181986               4.837794\n",
       "min          18.900000      10.000000         0.000000              -9.800000\n",
       "25%          21.400000      25.000000         0.000000               6.125000\n",
       "50%          24.050000      37.500000         0.000000               9.750000\n",
       "75%          26.075000      58.750000         1.025000              11.000000\n",
       "max          58.000000      90.000000         8.000000              12.500000"
      ]
     },
     "execution_count": 17,
     "metadata": {},
     "output_type": "execute_result"
    }
   ],
   "source": [
    "df.describe()"
   ]
  },
  {
   "cell_type": "code",
   "execution_count": 18,
   "id": "d68eeedb",
   "metadata": {},
   "outputs": [
    {
     "data": {
      "text/plain": [
       "{'whiskers': [<matplotlib.lines.Line2D at 0x29be4364050>,\n",
       "  <matplotlib.lines.Line2D at 0x29be4364190>],\n",
       " 'caps': [<matplotlib.lines.Line2D at 0x29be43642d0>,\n",
       "  <matplotlib.lines.Line2D at 0x29be4364410>],\n",
       " 'boxes': [<matplotlib.lines.Line2D at 0x29be3bf7ed0>],\n",
       " 'medians': [<matplotlib.lines.Line2D at 0x29be4364550>],\n",
       " 'fliers': [<matplotlib.lines.Line2D at 0x29be4364690>],\n",
       " 'means': []}"
      ]
     },
     "execution_count": 18,
     "metadata": {},
     "output_type": "execute_result"
    },
    {
     "data": {
      "image/png": "[encoded data removed]",
      "text/plain": [
       "<Figure size 640x480 with 1 Axes>"
      ]
     },
     "metadata": {},
     "output_type": "display_data"
    }
   ],
   "source": [
    "plt.boxplot(df['Temperatur (°C)'])"
   ]
  },
  {
   "cell_type": "code",
   "execution_count": 19,
   "id": "95e10584",
   "metadata": {},
   "outputs": [],
   "source": [
    "mean_temp = df['Temperatur (°C)'].mean(skipna=True)\n",
    "max_temp = df['Temperatur (°C)'].max(skipna=True)\n",
    "df['Temperatur (°C)'] = df['Temperatur (°C)'].replace(max_temp, mean_temp)"
   ]
  },
  {
   "cell_type": "code",
   "execution_count": 22,
   "id": "0fbc4403",
   "metadata": {},
   "outputs": [
    {
     "data": {
      "image/png": "[encoded data removed]",
      "text/plain": [
       "<Figure size 800x500 with 1 Axes>"
      ]
     },
     "metadata": {},
     "output_type": "display_data"
    }
   ],
   "source": [
    "plt.figure(figsize=(8,5))\n",
    "df['Temperatur (°C)'].hist(bins=15, color='skyblue', edgecolor='black')\n",
    "plt.title('Temperaturverteilung in Zürich (Juni 2025)')\n",
    "plt.xlabel('Temperatur (°C)')\n",
    "plt.ylabel('Anzahl der Tage')\n",
    "plt.grid(True)\n",
    "plt.show()"
   ]
  },
  {
   "cell_type": "code",
   "execution_count": 23,
   "id": "ab66aeca",
   "metadata": {},
   "outputs": [
    {
     "data": {
      "image/png": "[encoded data removed]",
      "text/plain": [
       "<Figure size 1000x500 with 1 Axes>"
      ]
     },
     "metadata": {},
     "output_type": "display_data"
    }
   ],
   "source": [
    "plt.figure(figsize=(10,5))\n",
    "plt.plot(df['Datum'], df['Sonnenscheindauer (h)'], marker='o', linestyle='-', color='orange')\n",
    "plt.title('Sonnenscheindauer pro Tag')\n",
    "plt.xlabel('Datum')\n",
    "plt.ylabel('Sonnenscheindauer (h)')\n",
    "plt.xticks(rotation=45)\n",
    "plt.grid(True)\n",
    "plt.tight_layout()\n",
    "plt.show()"
   ]
  },
  {
   "cell_type": "code",
   "execution_count": 24,
   "id": "ec761c15",
   "metadata": {},
   "outputs": [
    {
     "data": {
      "image/png": "[encoded data removed]",
      "text/plain": [
       "<Figure size 800x500 with 1 Axes>"
      ]
     },
     "metadata": {},
     "output_type": "display_data"
    }
   ],
   "source": [
    "plt.figure(figsize=(8,5))\n",
    "plt.scatter(df['Sonnenscheindauer (h)'], df['Temperatur (°C)'], color='green')\n",
    "plt.title('Zusammenhang zwischen Sonnenscheindauer und Temperatur')\n",
    "plt.xlabel('Sonnenscheindauer (h)')\n",
    "plt.ylabel('Temperatur (°C)')\n",
    "plt.grid(True)\n",
    "plt.show()"
   ]
  }
 ],
 "metadata": {
  "kernelspec": {
   "display_name": "Python 3",
   "language": "python",
   "name": "python3"
  },
  "language_info": {
   "codemirror_mode": {
    "name": "ipython",
    "version": 3
   },
   "file_extension": ".py",
   "mimetype": "text/x-python",
   "name": "python",
   "nbconvert_exporter": "python",
   "pygments_lexer": "ipython3",
   "version": "3.13.3"
  }
 },
 "nbformat": 4,
 "nbformat_minor": 5
}
